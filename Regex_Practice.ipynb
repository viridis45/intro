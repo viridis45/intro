{
  "nbformat": 4,
  "nbformat_minor": 0,
  "metadata": {
    "colab": {
      "name": "Regex Practice.ipynb",
      "version": "0.3.2",
      "provenance": [],
      "collapsed_sections": [],
      "include_colab_link": true
    },
    "kernelspec": {
      "name": "python3",
      "display_name": "Python 3"
    }
  },
  "cells": [
    {
      "cell_type": "markdown",
      "metadata": {
        "id": "view-in-github",
        "colab_type": "text"
      },
      "source": [
        "<a href=\"https://colab.research.google.com/github/viridis45/intro/blob/master/Regex_Practice.ipynb\" target=\"_parent\"><img src=\"https://colab.research.google.com/assets/colab-badge.svg\" alt=\"Open In Colab\"/></a>"
      ]
    },
    {
      "cell_type": "markdown",
      "metadata": {
        "id": "phc2ASetPgud",
        "colab_type": "text"
      },
      "source": [
        "##Practicing Regular Expression\n",
        "\n",
        "- abc...  : letters\n",
        "- [a,b,c]  : only a,b, and c\n",
        "- [a-zA-Z]  : a through z and A through Z\n",
        "-      .      : any character ( therefore .* means everything how many there is )\n",
        "- 123...     : digits\n",
        "- [0-7]      :  0 through 7\n",
        "- [^0-9]    :  non numbers\n",
        "- \\d : any digit\n",
        "- \\D : any non digit characters\n",
        "- \\w : any alphanumeric\n",
        "- \\W : any non-alphanumeric\n",
        "\n",
        "\n",
        "- {n} : n repetitions\n",
        "- {m,n} : m through n reps\n",
        "- '+' : one or more reps\n",
        "- '*' : zero or more reps\n",
        "- ? : optional. zero or one\n",
        "\n",
        "\n",
        "- \\s : whitespace\n",
        "- \\S : any non whitespace\n",
        "- ^ : starts\n",
        "- $ : ends\n",
        "- ( ()) : capture group and capture sub group\n",
        "- (Frodo | Sam) : matching Frodo or Sam"
      ]
    },
    {
      "cell_type": "code",
      "metadata": {
        "id": "PisnKX_VOQb2",
        "colab_type": "code",
        "outputId": "c82c60bb-bec3-46bd-fc0e-24461db217d8",
        "colab": {
          "base_uri": "https://localhost:8080/",
          "height": 34
        }
      },
      "source": [
        "a = 'Middle {}'\n",
        "b = 'Earth'\n",
        "a.format(b)\n",
        "#print( \"Some digits of %(cont)s: %(value).2f\" %{'cont':'e', \"value\":2.78})\n"
      ],
      "execution_count": 0,
      "outputs": [
        {
          "output_type": "execute_result",
          "data": {
            "text/plain": [
              "'Middle Earth'"
            ]
          },
          "metadata": {
            "tags": []
          },
          "execution_count": 4
        }
      ]
    },
    {
      "cell_type": "code",
      "metadata": {
        "id": "lpUiIrwiPezd",
        "colab_type": "code",
        "outputId": "a3af9ab3-dec9-4dbf-cd4f-4ce1b1cb75f4",
        "colab": {
          "base_uri": "https://localhost:8080/",
          "height": 158
        }
      },
      "source": [
        "import re\n",
        "pattern = re.compile(\"(\\d{6})[-]\\d{7}\")\n",
        "data = \"\"\"\n",
        "kim 990102-1234567\n",
        "lee 970102-2234567\n",
        "\"\"\"\n",
        "print(pattern.sub('\\g<1>', data))\n",
        "print(pattern.sub('\\g<1>-*******', data))"
      ],
      "execution_count": 0,
      "outputs": [
        {
          "output_type": "stream",
          "text": [
            "\n",
            "kim 990102\n",
            "lee 970102\n",
            "\n",
            "\n",
            "kim 990102-*******\n",
            "lee 970102-*******\n",
            "\n"
          ],
          "name": "stdout"
        }
      ]
    },
    {
      "cell_type": "code",
      "metadata": {
        "id": "MOVwh5Tdb4Jw",
        "colab_type": "code",
        "outputId": "eee60af7-df2a-4184-d19c-ed57c827e71d",
        "colab": {
          "base_uri": "https://localhost:8080/",
          "height": 193
        }
      },
      "source": [
        "pat = re.compile('[a-z]+')\n",
        "\n",
        "b = pat.search('3 rings for eleven kings') # searches until the first match\n",
        "c = pat.findall('they are taking the hobbits to isengard') # returns all that matches the pattern\n",
        "d = pat.match('1 ring to bring them all') # checks first category\n",
        "\n",
        "\n",
        "print(b,'\\n',c,'\\n',d)\n",
        "print('--------------------')\n",
        "\n",
        "res = pat.finditer('1 ring to rule them all')\n",
        "print (res)\n",
        "for i in res:\n",
        "  print(i)"
      ],
      "execution_count": 0,
      "outputs": [
        {
          "output_type": "stream",
          "text": [
            "<_sre.SRE_Match object; span=(2, 7), match='rings'> \n",
            " ['they', 'are', 'taking', 'the', 'hobbits', 'to', 'isengard'] \n",
            " None\n",
            "--------------------\n",
            "<callable_iterator object at 0x7fa7bb3c6080>\n",
            "<_sre.SRE_Match object; span=(2, 6), match='ring'>\n",
            "<_sre.SRE_Match object; span=(7, 9), match='to'>\n",
            "<_sre.SRE_Match object; span=(10, 14), match='rule'>\n",
            "<_sre.SRE_Match object; span=(15, 19), match='them'>\n",
            "<_sre.SRE_Match object; span=(20, 23), match='all'>\n"
          ],
          "name": "stdout"
        }
      ]
    },
    {
      "cell_type": "code",
      "metadata": {
        "id": "n0VI-4Ho0uKF",
        "colab_type": "code",
        "outputId": "0bd2c7fa-20aa-4ca8-b573-909a304e8f38",
        "colab": {
          "base_uri": "https://localhost:8080/",
          "height": 87
        }
      },
      "source": [
        "p=re.compile('(ABC)+') # Grouping ABC to find multiple\n",
        "res=p.search('CBABCABCABC DEF')\n",
        "print(res)\n",
        "\n",
        "p=re.compile('(ABC)') \n",
        "res=p.findall('ABCABCABC DEF')\n",
        "print(res)\n",
        "\n",
        "p=re.compile('(ABC)') \n",
        "res=p.match('ABCABCABC DEF')\n",
        "print(res)\n",
        "\n",
        "p=re.compile('(ABC)+') \n",
        "res=p.match('ABCABCABC DEF')\n",
        "print(res)"
      ],
      "execution_count": 0,
      "outputs": [
        {
          "output_type": "stream",
          "text": [
            "<_sre.SRE_Match object; span=(2, 11), match='ABCABCABC'>\n",
            "['ABC', 'ABC', 'ABC']\n",
            "<_sre.SRE_Match object; span=(0, 3), match='ABC'>\n",
            "<_sre.SRE_Match object; span=(0, 9), match='ABCABCABC'>\n"
          ],
          "name": "stdout"
        }
      ]
    },
    {
      "cell_type": "code",
      "metadata": {
        "id": "Q8vEXCsOdOPC",
        "colab_type": "code",
        "outputId": "b62ee93a-7818-422a-af42-dc48b0f0ab0b",
        "colab": {
          "base_uri": "https://localhost:8080/",
          "height": 34
        }
      },
      "source": [
        "res = pat.match('three rings for elven kings under the sky')\n",
        "res.group()\n",
        "res.start()\n",
        "res.end()\n",
        "res.span()"
      ],
      "execution_count": 0,
      "outputs": [
        {
          "output_type": "execute_result",
          "data": {
            "text/plain": [
              "(0, 5)"
            ]
          },
          "metadata": {
            "tags": []
          },
          "execution_count": 33
        }
      ]
    },
    {
      "cell_type": "code",
      "metadata": {
        "id": "fcxO_0UkdRaG",
        "colab_type": "code",
        "colab": {}
      },
      "source": [
        "pat = re.compile('[a-z]+')\n",
        "res = pat.match('seven for the dwarf')\n",
        "#이 둘이랑\n",
        "res=re.match('[a-z]+', 'seven for the dwarf')\n",
        "#이넘이랑 같은말"
      ],
      "execution_count": 0,
      "outputs": []
    },
    {
      "cell_type": "code",
      "metadata": {
        "id": "rsyKSP7FdRcm",
        "colab_type": "code",
        "outputId": "a434a15e-8523-44ad-b208-8b2b456d535d",
        "colab": {
          "base_uri": "https://localhost:8080/",
          "height": 70
        }
      },
      "source": [
        "pat = re.compile('(\\w+)\\s+(\\d+)[,]+\\s+(\\w+)\\s+\\d') # 다수의 word combined with multiple numbers\n",
        "res = pat.search('dwarf 11, elf 3')\n",
        "print(res)\n",
        "print(res.group()) #전체\n",
        "print(res.group(3)) #세 번째 그룹\n"
      ],
      "execution_count": 0,
      "outputs": [
        {
          "output_type": "stream",
          "text": [
            "<_sre.SRE_Match object; span=(0, 15), match='dwarf 11, elf 3'>\n",
            "dwarf 11, elf 3\n",
            "elf\n"
          ],
          "name": "stdout"
        }
      ]
    },
    {
      "cell_type": "code",
      "metadata": {
        "id": "s4K1WyVwdRfJ",
        "colab_type": "code",
        "outputId": "15a511b7-2534-4bbd-f878-8fa56f57e21d",
        "colab": {
          "base_uri": "https://localhost:8080/",
          "height": 175
        }
      },
      "source": [
        "print(re.match('[가:힣]+','김리'))\n",
        "\n",
        "emails = ['python@mail.example.com', 'python+kr@example.com',              # 올바른 형식\n",
        "          'python-dojang@example.co.kr', 'python_10@example.info',         # 올바른 형식\n",
        "          'python.dojang@e-xample.com',                                    # 올바른 형식\n",
        "          '@example.com', 'python@example', 'python@example-com']          # 잘못된 형식\n",
        "pat = re.compile('^\\S+[@]\\S+[.]\\S+$')\n",
        "for i in emails:\n",
        "  res = pat.search(i)\n",
        "  print (res)"
      ],
      "execution_count": 0,
      "outputs": [
        {
          "output_type": "stream",
          "text": [
            "None\n",
            "<_sre.SRE_Match object; span=(0, 23), match='python@mail.example.com'>\n",
            "<_sre.SRE_Match object; span=(0, 21), match='python+kr@example.com'>\n",
            "<_sre.SRE_Match object; span=(0, 27), match='python-dojang@example.co.kr'>\n",
            "<_sre.SRE_Match object; span=(0, 22), match='python_10@example.info'>\n",
            "<_sre.SRE_Match object; span=(0, 26), match='python.dojang@e-xample.com'>\n",
            "None\n",
            "None\n",
            "None\n"
          ],
          "name": "stdout"
        }
      ]
    },
    {
      "cell_type": "code",
      "metadata": {
        "id": "FGIKjz1BtI7q",
        "colab_type": "code",
        "outputId": "9adb5e04-6627-4be5-d325-259942f30dc3",
        "colab": {
          "base_uri": "https://localhost:8080/",
          "height": 158
        }
      },
      "source": [
        "pat=re.compile('[ a-z6-8]+')\n",
        "res=pat.match(\"hi de7ep\")\n",
        "if res: #res에 객체가 저장되었다면\n",
        "    print(\"매치됨\")\n",
        "    print(res.group())\n",
        "else: #None = 매치되지 않았다면(객체가 저장되지 않았다면)\n",
        "    print(\"매치안됨\")\n",
        "\n",
        "\n",
        "re.match('[0-9]*', '1234')\n",
        "re.match('[0-9]+', '1234')\n",
        "re.match('[0-9]+', 'abcd')\n",
        "print(re.match('a*b', 'b'))\n",
        "print(re.match('a*b', 'aab'))\n",
        "print(re.match('a+b', 'aab'))\n",
        "print(re.match('K?', 'K'))\n",
        "print(re.match('K?', 'K9'))\n",
        "print(re.match('K.', 'K99'))"
      ],
      "execution_count": 0,
      "outputs": [
        {
          "output_type": "stream",
          "text": [
            "매치됨\n",
            "hi de7ep\n",
            "<_sre.SRE_Match object; span=(0, 1), match='b'>\n",
            "<_sre.SRE_Match object; span=(0, 3), match='aab'>\n",
            "<_sre.SRE_Match object; span=(0, 3), match='aab'>\n",
            "<_sre.SRE_Match object; span=(0, 1), match='K'>\n",
            "<_sre.SRE_Match object; span=(0, 1), match='K'>\n",
            "<_sre.SRE_Match object; span=(0, 2), match='K9'>\n"
          ],
          "name": "stdout"
        }
      ]
    }
  ]
}